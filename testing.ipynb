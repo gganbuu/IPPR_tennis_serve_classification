{
 "cells": [
  {
   "cell_type": "code",
   "execution_count": null,
   "metadata": {},
   "outputs": [],
   "source": [
    "#THIS FILE WILL BE USED TO TEST ANY MACHINE LEARNING ALGORITHM USING THE DATASET FROM dataset.ipynb"
   ]
  }
 ],
 "metadata": {
  "language_info": {
   "name": "python"
  }
 },
 "nbformat": 4,
 "nbformat_minor": 2
}
